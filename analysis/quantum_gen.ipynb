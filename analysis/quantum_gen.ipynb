{
 "cells": [
  {
   "cell_type": "code",
   "execution_count": 1,
   "metadata": {},
   "outputs": [],
   "source": [
    "import qiskit.qasm3\n",
    "from qiskit.circuit.random import random_circuit\n",
    "\n",
    "W = 5\n",
    "D = 10\n",
    "\n",
    "# pars = [\n",
    "#     [5, 10], [5, 50], [5, 100], [5, 500],\n",
    "#     [6, 10], [6, 50], [6, 100],\n",
    "#     [7, 10], [7, 50],\n",
    "#     [8, 10], [8, 50],\n",
    "#     [9, 10], [9, 50],\n",
    "#     [10, 10], [10, 50],\n",
    "#     [11, 10], [11, 50],\n",
    "#     [12, 10], [12, 50],\n",
    "# ]\n",
    "\n",
    "pars = [(w, d) for w in range(5, 8) for d in [10, 20, 30, 40, 50, 60, 70, 80, 90, 100, 200, 300, 400, 500]]\n",
    "\n",
    "\n",
    "for W, D in pars:\n",
    "    circ = random_circuit(W, D, measure=False)\n",
    "    with open(f\"q{W:02}-{D:03}.qasm\", \"w\") as f:\n",
    "        qiskit.qasm3.dump(circ, f)"
   ]
  }
 ],
 "metadata": {
  "kernelspec": {
   "display_name": ".venv",
   "language": "python",
   "name": "python3"
  },
  "language_info": {
   "codemirror_mode": {
    "name": "ipython",
    "version": 3
   },
   "file_extension": ".py",
   "mimetype": "text/x-python",
   "name": "python",
   "nbconvert_exporter": "python",
   "pygments_lexer": "ipython3",
   "version": "3.12.1"
  }
 },
 "nbformat": 4,
 "nbformat_minor": 2
}
